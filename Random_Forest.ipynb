{
 "cells": [
  {
   "cell_type": "code",
   "execution_count": 11,
   "id": "00105a28-9ae1-4dfc-9521-7fc4755bd810",
   "metadata": {},
   "outputs": [],
   "source": [
    "import pandas as pd\n",
    "import numpy as np\n",
    "from sklearn.model_selection import train_test_split\n",
    "from sklearn.preprocessing import StandardScaler\n",
    "from sklearn.ensemble import RandomForestClassifier\n",
    "from sklearn.metrics import classification_report, confusion_matrix, accuracy_score\n",
    "from matplotlib import pyplot as plt "
   ]
  },
  {
   "cell_type": "markdown",
   "id": "02ee3269-0745-4d8f-9ef9-1e7131d05ec4",
   "metadata": {},
   "source": [
    "#### Importo il dataset"
   ]
  },
  {
   "cell_type": "code",
   "execution_count": 3,
   "id": "af9de0d9-ef2b-4013-a1a7-25d10ecfc06d",
   "metadata": {},
   "outputs": [
    {
     "data": {
      "text/html": [
       "<div>\n",
       "<style scoped>\n",
       "    .dataframe tbody tr th:only-of-type {\n",
       "        vertical-align: middle;\n",
       "    }\n",
       "\n",
       "    .dataframe tbody tr th {\n",
       "        vertical-align: top;\n",
       "    }\n",
       "\n",
       "    .dataframe thead th {\n",
       "        text-align: right;\n",
       "    }\n",
       "</style>\n",
       "<table border=\"1\" class=\"dataframe\">\n",
       "  <thead>\n",
       "    <tr style=\"text-align: right;\">\n",
       "      <th></th>\n",
       "      <th>Variance</th>\n",
       "      <th>Skewness</th>\n",
       "      <th>Curtosis</th>\n",
       "      <th>Entropy</th>\n",
       "      <th>Class</th>\n",
       "    </tr>\n",
       "  </thead>\n",
       "  <tbody>\n",
       "    <tr>\n",
       "      <th>0</th>\n",
       "      <td>3.62160</td>\n",
       "      <td>8.6661</td>\n",
       "      <td>-2.8073</td>\n",
       "      <td>-0.44699</td>\n",
       "      <td>0</td>\n",
       "    </tr>\n",
       "    <tr>\n",
       "      <th>1</th>\n",
       "      <td>4.54590</td>\n",
       "      <td>8.1674</td>\n",
       "      <td>-2.4586</td>\n",
       "      <td>-1.46210</td>\n",
       "      <td>0</td>\n",
       "    </tr>\n",
       "    <tr>\n",
       "      <th>2</th>\n",
       "      <td>3.86600</td>\n",
       "      <td>-2.6383</td>\n",
       "      <td>1.9242</td>\n",
       "      <td>0.10645</td>\n",
       "      <td>0</td>\n",
       "    </tr>\n",
       "    <tr>\n",
       "      <th>3</th>\n",
       "      <td>3.45660</td>\n",
       "      <td>9.5228</td>\n",
       "      <td>-4.0112</td>\n",
       "      <td>-3.59440</td>\n",
       "      <td>0</td>\n",
       "    </tr>\n",
       "    <tr>\n",
       "      <th>4</th>\n",
       "      <td>0.32924</td>\n",
       "      <td>-4.4552</td>\n",
       "      <td>4.5718</td>\n",
       "      <td>-0.98880</td>\n",
       "      <td>0</td>\n",
       "    </tr>\n",
       "  </tbody>\n",
       "</table>\n",
       "</div>"
      ],
      "text/plain": [
       "   Variance  Skewness  Curtosis  Entropy  Class\n",
       "0   3.62160    8.6661   -2.8073 -0.44699      0\n",
       "1   4.54590    8.1674   -2.4586 -1.46210      0\n",
       "2   3.86600   -2.6383    1.9242  0.10645      0\n",
       "3   3.45660    9.5228   -4.0112 -3.59440      0\n",
       "4   0.32924   -4.4552    4.5718 -0.98880      0"
      ]
     },
     "execution_count": 3,
     "metadata": {},
     "output_type": "execute_result"
    }
   ],
   "source": [
    "dataset = pd.read_csv('datasets/bill_authentication.csv')\n",
    "dataset.head()"
   ]
  },
  {
   "cell_type": "markdown",
   "id": "cabb6643-0d18-4654-aef6-287dfbdf1d35",
   "metadata": {},
   "source": [
    "#### Divido il dataset in train e test"
   ]
  },
  {
   "cell_type": "code",
   "execution_count": 4,
   "id": "4821f960-b6cf-496f-b660-c1b8e053ff2a",
   "metadata": {},
   "outputs": [],
   "source": [
    "X = dataset.iloc[:, 0:4].values\n",
    "y = dataset.iloc[:, 4].values\n",
    "\n",
    "X_train, X_test, y_train, y_test = train_test_split(X, y, test_size=0.2, random_state=0)"
   ]
  },
  {
   "cell_type": "markdown",
   "id": "ff198d1a-15a5-45ce-81ed-668e08b27be0",
   "metadata": {},
   "source": [
    "#### Normalizzo i dati tramite standard scaler"
   ]
  },
  {
   "cell_type": "code",
   "execution_count": 5,
   "id": "441dabba-ed5d-43bc-b67f-efbb6a2c5350",
   "metadata": {},
   "outputs": [],
   "source": [
    "sc = StandardScaler()\n",
    "X_train = sc.fit_transform(X_train)\n",
    "X_test = sc.transform(X_test)"
   ]
  },
  {
   "cell_type": "markdown",
   "id": "ff9fad46-8744-4b01-af73-7bfc0209b433",
   "metadata": {},
   "source": [
    "#### Addestro un modello con Random Forest Classifier"
   ]
  },
  {
   "cell_type": "code",
   "execution_count": 6,
   "id": "6697d2bc-9912-4b34-8d9b-1047fedbb698",
   "metadata": {},
   "outputs": [],
   "source": [
    "classifier = RandomForestClassifier(\n",
    "    n_estimators=20, \n",
    "    random_state=42\n",
    ")\n",
    "classifier.fit(X_train, y_train)\n",
    "y_pred = classifier.predict(X_test)"
   ]
  },
  {
   "cell_type": "markdown",
   "id": "b5084dd3-ec12-482c-a9bc-f1c2624125b3",
   "metadata": {},
   "source": [
    "#### Eseguo una matrice di confusione per visualizzare dove il modello a sbagliato e quanto "
   ]
  },
  {
   "cell_type": "code",
   "execution_count": 7,
   "id": "2983f8f1-35be-4caf-995a-39303fb78fe0",
   "metadata": {},
   "outputs": [
    {
     "name": "stdout",
     "output_type": "stream",
     "text": [
      "[[155   2]\n",
      " [  2 116]]\n",
      "              precision    recall  f1-score   support\n",
      "\n",
      "           0       0.99      0.99      0.99       157\n",
      "           1       0.98      0.98      0.98       118\n",
      "\n",
      "    accuracy                           0.99       275\n",
      "   macro avg       0.99      0.99      0.99       275\n",
      "weighted avg       0.99      0.99      0.99       275\n",
      "\n",
      "0.9854545454545455\n"
     ]
    }
   ],
   "source": [
    "print(confusion_matrix(y_test,y_pred))\n",
    "print(classification_report(y_test,y_pred))\n",
    "print(accuracy_score(y_test, y_pred))"
   ]
  },
  {
   "cell_type": "markdown",
   "id": "96c89e98-cbdf-4c36-af88-92bd783cd708",
   "metadata": {},
   "source": [
    "#### Mostro l'importanza nella classificazione di ogni features "
   ]
  },
  {
   "cell_type": "code",
   "execution_count": 8,
   "id": "541ad04b-9c88-4d82-bac9-a89bc561655b",
   "metadata": {},
   "outputs": [
    {
     "name": "stdout",
     "output_type": "stream",
     "text": [
      "['Variance', 'Skewness', 'Curtosis', 'Entropy']\n",
      "[0.5525358370789158, 0.2317475702293396, 0.15579738510808866, 0.05991920758365586]\n",
      "('Variance', 0.5525358370789158)\n",
      "('Skewness', 0.2317475702293396)\n",
      "('Curtosis', 0.15579738510808866)\n",
      "('Entropy', 0.05991920758365586)\n",
      "\n",
      "\n",
      "('Variance', 0.55)\n",
      "('Skewness', 0.23)\n",
      "('Curtosis', 0.16)\n",
      "('Entropy', 0.06)\n",
      "[('Variance', 0.55), ('Skewness', 0.23), ('Curtosis', 0.16), ('Entropy', 0.06)]\n",
      "\n",
      "\n",
      "Variable: Variance             Importance: 0.55\n",
      "Variable: Skewness             Importance: 0.23\n",
      "Variable: Curtosis             Importance: 0.16\n",
      "Variable: Entropy              Importance: 0.06\n"
     ]
    }
   ],
   "source": [
    "feature_list = dataset.columns[:-1]\n",
    "print(list(feature_list))\n",
    "\n",
    "importances = list(classifier.feature_importances_)\n",
    "print(importances)\n",
    "\n",
    "for t in zip(feature_list, importances):\n",
    "    print(t)\n",
    "\n",
    "feature_importances = [\n",
    "    (feature, round(importance, 2)) for feature, importance in zip(feature_list, importances)\n",
    "]\n",
    "\n",
    "print(\"\\n\")\n",
    "\n",
    "for t in feature_importances:\n",
    "    print(t)\n",
    "\n",
    "feature_importances = sorted(feature_importances, key = lambda x: x[1], reverse = True)\n",
    "\n",
    "print(feature_importances)\n",
    "print(\"\\n\")\n",
    "[print('Variable: {:20} Importance: {}'.format(*pair)) for pair in feature_importances];"
   ]
  },
  {
   "cell_type": "markdown",
   "id": "fc453eb9-ef33-44f3-94a9-756f89cc9bc6",
   "metadata": {},
   "source": [
    "#### Illustrazione di importanza nella classificazione delle features"
   ]
  },
  {
   "cell_type": "code",
   "execution_count": 12,
   "id": "bf427b47-7909-45b3-a199-baab58fdcec7",
   "metadata": {},
   "outputs": [
    {
     "data": {
      "text/plain": [
       "Text(0.5, 1.0, 'Variable Importances')"
      ]
     },
     "execution_count": 12,
     "metadata": {},
     "output_type": "execute_result"
    },
    {
     "data": {
      "image/png": "[encoded data removed]",
      "text/plain": [
       "<Figure size 640x480 with 1 Axes>"
      ]
     },
     "metadata": {},
     "output_type": "display_data"
    }
   ],
   "source": [
    "x_values = list(range(len(importances)))\n",
    "plt.bar(x_values, importances,)\n",
    "plt.xticks(x_values, feature_list)\n",
    "\n",
    "plt.ylabel('Importance')\n",
    "plt.xlabel('Variable')\n",
    "plt.title('Variable Importances')"
   ]
  },
  {
   "cell_type": "markdown",
   "id": "87bad3a8-93c3-435b-9cd0-7ada434e81f6",
   "metadata": {},
   "source": [
    "#### Elimino la Entropy non essendo rilevante e rendere l'albero piu leggero"
   ]
  },
  {
   "cell_type": "code",
   "execution_count": 14,
   "id": "523300ad-19b6-4cfd-8d7d-d65af111b5fa",
   "metadata": {},
   "outputs": [],
   "source": [
    "most_important = RandomForestClassifier(n_estimators= 1000, random_state=42)\n",
    "\n",
    "important_indices = [\n",
    "    dataset.columns.get_loc('Variance'),\n",
    "    dataset.columns.get_loc('Skewness'),\n",
    "    dataset.columns.get_loc('Curtosis'),\n",
    "]\n",
    "X_train_important = X_train[:, important_indices]\n",
    "X_test_important = X_test[:, important_indices]\n",
    "\n",
    "most_important.fit(X_train_important, y_train)\n",
    "\n",
    "most_important_predictions = most_important.predict(X_test_important)"
   ]
  },
  {
   "cell_type": "markdown",
   "id": "5d278c47-1e0c-4f73-a865-16ac23b08cbf",
   "metadata": {},
   "source": [
    "#### Le prestazioni del modello rimangono invariate"
   ]
  },
  {
   "cell_type": "code",
   "execution_count": 15,
   "id": "fbfd1efd-e68b-4781-8b6c-d00eb4817f3f",
   "metadata": {},
   "outputs": [
    {
     "name": "stdout",
     "output_type": "stream",
     "text": [
      "[[155   2]\n",
      " [  2 116]]\n",
      "              precision    recall  f1-score   support\n",
      "\n",
      "           0       0.99      0.99      0.99       157\n",
      "           1       0.98      0.98      0.98       118\n",
      "\n",
      "    accuracy                           0.99       275\n",
      "   macro avg       0.99      0.99      0.99       275\n",
      "weighted avg       0.99      0.99      0.99       275\n",
      "\n",
      "0.9854545454545455\n"
     ]
    }
   ],
   "source": [
    "print(confusion_matrix(y_test,most_important_predictions))\n",
    "print(classification_report(y_test,most_important_predictions))\n",
    "print(accuracy_score(y_test, most_important_predictions))"
   ]
  },
  {
   "cell_type": "code",
   "execution_count": null,
   "id": "65a9cf68-50a8-46a9-951c-9e0ccd595938",
   "metadata": {},
   "outputs": [],
   "source": []
  }
 ],
 "metadata": {
  "kernelspec": {
   "display_name": "Python 3 (ipykernel)",
   "language": "python",
   "name": "python3"
  },
  "language_info": {
   "codemirror_mode": {
    "name": "ipython",
    "version": 3
   },
   "file_extension": ".py",
   "mimetype": "text/x-python",
   "name": "python",
   "nbconvert_exporter": "python",
   "pygments_lexer": "ipython3",
   "version": "3.11.4"
  }
 },
 "nbformat": 4,
 "nbformat_minor": 5
}
